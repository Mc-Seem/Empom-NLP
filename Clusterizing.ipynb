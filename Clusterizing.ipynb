{
 "cells": [
  {
   "cell_type": "code",
   "execution_count": 1,
   "metadata": {
    "collapsed": true
   },
   "outputs": [],
   "source": [
    "import pandas as pd\n",
    "import numpy as np\n",
    "from classes.Breakdown import df_transform\n",
    "from classes.UniVectorizer import Vectorizer\n",
    "from classes.MvideoPreprocessor import TextPreprocessor\n",
    "# from Preprocessing import df_transform, EM_Pomoshnik_TextPreprocessor, TextPreprocessor"
   ]
  },
  {
   "cell_type": "markdown",
   "source": [
    "# Препроцессинг"
   ],
   "metadata": {
    "collapsed": false
   }
  },
  {
   "cell_type": "code",
   "execution_count": null,
   "outputs": [],
   "source": [
    "import nltk\n",
    "nltk.download('stopwords')\n",
    "\n",
    "from nltk.corpus import stopwords\n",
    "sw = stopwords.words('Russian')\n",
    "sw += ['ответ', 'подходит', 'спасибо', 'здравствуйте', 'добрый', 'день', 'こんにちは4464', 'мочь', 'подсказать', 'привет', '⅞4467', 'заказ',\n",
    "       'товар', 'клиент', 'жанар', 'жанна', 'жарков', 'жать', 'могу', 'создать', 'делать', 'сделать', 'который', 'вопрос']\n",
    "\n",
    "df = df_transform(pd.read_excel('data/empom_autofaq.xlsx'))\n",
    "# mtp = EM_Pomoshnik_TextPreprocessor(' ', ' ', ' ')\n",
    "tp = TextPreprocessor(method='lemma', stop_words=sw)\n",
    "df['line'] = tp.fit_transform(df['line'])\n",
    "\n",
    "vect = Vectorizer('tfidf', max_df=0.9, min_df=0.01, ngram_range=(1, 2))\n",
    "X = vect.fit_transform(df['line'])\n",
    "user_messages = X[df['sender'] == 'user']"
   ],
   "metadata": {
    "collapsed": false,
    "pycharm": {
     "name": "#%%\n",
     "is_executing": true
    }
   }
  },
  {
   "cell_type": "code",
   "execution_count": null,
   "outputs": [],
   "source": [
    "df['line'].head()"
   ],
   "metadata": {
    "collapsed": false,
    "pycharm": {
     "name": "#%%\n",
     "is_executing": true
    }
   }
  },
  {
   "cell_type": "code",
   "execution_count": null,
   "outputs": [],
   "source": [
    "!pip install kneed"
   ],
   "metadata": {
    "collapsed": false,
    "pycharm": {
     "name": "#%%\n",
     "is_executing": true
    }
   }
  },
  {
   "cell_type": "markdown",
   "source": [
    "# Сколько кластеров?\n",
    "(для оценки использовал инерцию от KMeans)"
   ],
   "metadata": {
    "collapsed": false
   }
  },
  {
   "cell_type": "code",
   "execution_count": 5,
   "outputs": [
    {
     "name": "stdout",
     "output_type": "stream",
     "text": [
      "Requirement already satisfied: tqdm in c:\\users\\apple\\anaconda3\\lib\\site-packages (4.62.3)\n",
      "Requirement already satisfied: colorama in c:\\users\\apple\\anaconda3\\lib\\site-packages (from tqdm) (0.4.4)\n"
     ]
    }
   ],
   "source": [
    "!pip install tqdm"
   ],
   "metadata": {
    "collapsed": false,
    "pycharm": {
     "name": "#%%\n"
    }
   }
  },
  {
   "cell_type": "code",
   "execution_count": null,
   "outputs": [],
   "source": [
    "from sklearn.cluster import KMeans\n",
    "from kneed import KneeLocator\n",
    "import matplotlib.pyplot as plt\n",
    "from tqdm import tqdm\n",
    "\n",
    "K = range(1, 50)\n",
    "inertia = []\n",
    "for k in tqdm(K):\n",
    "    mb_kmeans = KMeans(n_clusters = k)\n",
    "    mb_kmeans.fit(user_messages)\n",
    "    inertia.append(mb_kmeans.inertia_)\n",
    "\n",
    "i = np.arange(len(inertia))\n",
    "knee = KneeLocator(i, inertia, S=1, curve='convex', direction='decreasing', interp_method='polynomial')\n",
    "\n",
    "\n",
    "fig = plt.figure(figsize=(5, 5))\n",
    "knee.plot_knee()\n",
    "plt.title('Elbow Method')\n",
    "plt.xlabel('cluster numbers')\n",
    "plt.ylabel(\"Inertia\")\n",
    "plt.show()\n",
    "\n",
    "print(f\"Optimal number of clusters: {knee.knee}\")"
   ],
   "metadata": {
    "collapsed": false,
    "pycharm": {
     "name": "#%%\n",
     "is_executing": true
    }
   }
  },
  {
   "cell_type": "markdown",
   "source": [
    "# Function for topic-definition (LDA)"
   ],
   "metadata": {
    "collapsed": false
   }
  },
  {
   "cell_type": "code",
   "execution_count": 7,
   "outputs": [],
   "source": [
    "from sklearn.decomposition import LatentDirichletAllocation as LDA\n",
    "from sklearn.metrics import silhouette_score\n",
    "\n",
    "def get_topics(data, labels, terms):\n",
    "    lda = LDA(n_components=1)\n",
    "    for c in range(max(labels) + 1):\n",
    "        lda.fit(data[labels == c])\n",
    "\n",
    "        word_list = []\n",
    "        print(f\"Topic {c}:\")\n",
    "        for j in lda.components_.argsort()[0,-16:-1]:\n",
    "            word_list.append(terms[j])\n",
    "        print(word_list)\n",
    "\n",
    "k = knee.knee"
   ],
   "metadata": {
    "collapsed": false,
    "pycharm": {
     "name": "#%%\n"
    }
   }
  },
  {
   "cell_type": "markdown",
   "source": [
    "# MiniBatch KMeans"
   ],
   "metadata": {
    "collapsed": false
   }
  },
  {
   "cell_type": "code",
   "execution_count": null,
   "outputs": [],
   "source": [
    "from sklearn.cluster import MiniBatchKMeans\n",
    "\n",
    "mb_kmeans = MiniBatchKMeans(n_clusters=k)\n",
    "mb_kmeans.fit(user_messages)\n",
    "\n",
    "print(f\"Silhouette for MiniBatch KMeans: {silhouette_score(user_messages, mb_kmeans.labels_)}\")\n",
    "get_topics(user_messages, mb_kmeans.labels_, vect.get_feature_names())"
   ],
   "metadata": {
    "collapsed": false,
    "pycharm": {
     "name": "#%%\n",
     "is_executing": true
    }
   }
  },
  {
   "cell_type": "markdown",
   "source": [
    "# Regular KMeans"
   ],
   "metadata": {
    "collapsed": false
   }
  },
  {
   "cell_type": "code",
   "execution_count": null,
   "outputs": [],
   "source": [
    "from sklearn.cluster import KMeans\n",
    "\n",
    "# k = 15\n",
    "kmeans = KMeans(n_clusters=k)\n",
    "kmeans.fit(user_messages)\n",
    "\n",
    "print(f\"Silhouette for Regular KMeans: {silhouette_score(user_messages, kmeans.labels_)}\")\n",
    "get_topics(user_messages, kmeans.labels_, vect.get_feature_names())"
   ],
   "metadata": {
    "collapsed": false,
    "pycharm": {
     "name": "#%%\n",
     "is_executing": true
    }
   }
  },
  {
   "cell_type": "markdown",
   "source": [
    "# DBSCAN"
   ],
   "metadata": {
    "collapsed": false
   }
  },
  {
   "cell_type": "code",
   "execution_count": null,
   "outputs": [],
   "source": [
    "from sklearn.cluster import DBSCAN\n",
    "\n",
    "for e in range(70, 81, 1):\n",
    "    db = DBSCAN(eps=e/100).fit(user_messages)\n",
    "    clusters = dict().fromkeys(db.labels_, 0)\n",
    "    for l in db.labels_:\n",
    "        clusters[l] += 1\n",
    "    print(f\"Eps: {e/100}\\t|{clusters}\")"
   ],
   "metadata": {
    "collapsed": false,
    "pycharm": {
     "name": "#%%\n",
     "is_executing": true
    }
   }
  },
  {
   "cell_type": "code",
   "execution_count": null,
   "outputs": [],
   "source": [
    "print(f\"Silhouette for DBSCAN: {silhouette_score(user_messages, db.labels_)}\")\n",
    "get_topics(user_messages, db.labels_, vect.get_feature_names())"
   ],
   "metadata": {
    "collapsed": false,
    "pycharm": {
     "name": "#%%\n",
     "is_executing": true
    }
   }
  },
  {
   "cell_type": "markdown",
   "source": [
    "# Agglomerative Clustering"
   ],
   "metadata": {
    "collapsed": false
   }
  },
  {
   "cell_type": "code",
   "execution_count": null,
   "outputs": [],
   "source": [
    "from sklearn.cluster import AgglomerativeClustering\n",
    "from sklearn.decomposition import LatentDirichletAllocation as LDA\n",
    "\n",
    "agg_res = AgglomerativeClustering(n_clusters=k)\n",
    "agg_res.fit(user_messages.toarray())\n",
    "\n",
    "print(f\"Silhouette score for Agglomerative: {silhouette_score(user_messages, agg_res.labels_)}\")\n",
    "get_topics(user_messages, agg_res.labels_, vect.get_feature_names())"
   ],
   "metadata": {
    "collapsed": false,
    "pycharm": {
     "name": "#%%\n",
     "is_executing": true
    }
   }
  },
  {
   "cell_type": "markdown",
   "source": [
    "# BIRCH"
   ],
   "metadata": {
    "collapsed": false
   }
  },
  {
   "cell_type": "code",
   "execution_count": null,
   "outputs": [],
   "source": [
    "from sklearn.cluster import Birch\n",
    "birch = Birch(n_clusters=k)\n",
    "birch.fit(user_messages)\n",
    "\n",
    "print(f\"Silhouette score for BIRCH: {silhouette_score(user_messages, birch.labels_)}\")\n",
    "get_topics(user_messages, birch.labels_, vect.get_feature_names())"
   ],
   "metadata": {
    "collapsed": false,
    "pycharm": {
     "name": "#%%\n",
     "is_executing": true
    }
   }
  },
  {
   "cell_type": "markdown",
   "source": [
    "# Visualizing clusters with PyLDAvis"
   ],
   "metadata": {
    "collapsed": false
   }
  },
  {
   "cell_type": "code",
   "execution_count": null,
   "outputs": [],
   "source": [
    "!pip install pyLDAvis"
   ],
   "metadata": {
    "collapsed": false,
    "pycharm": {
     "name": "#%%\n",
     "is_executing": true
    }
   }
  },
  {
   "cell_type": "code",
   "execution_count": null,
   "outputs": [],
   "source": [
    "import pyLDAvis\n",
    "from kmeans_to_pyLDAvis.kmeans_to_pyLDAvis import kmeans_to_prepared_data\n",
    "\n",
    "prep = kmeans_to_prepared_data(user_messages, vect.get_feature_names(), kmeans.cluster_centers_,\n",
    "                               kmeans.labels_, embedding_method='tsne')\n",
    "\n",
    "pyLDAvis.display(prep)"
   ],
   "metadata": {
    "collapsed": false,
    "pycharm": {
     "name": "#%%\n",
     "is_executing": true
    }
   }
  },
  {
   "cell_type": "code",
   "execution_count": 17,
   "outputs": [],
   "source": [
    "with open(\"kmeans_vis.html\", \"w\") as f:\n",
    "    pyLDAvis.save_html(prep, f)"
   ],
   "metadata": {
    "collapsed": false,
    "pycharm": {
     "name": "#%%\n"
    }
   }
  },
  {
   "cell_type": "code",
   "execution_count": null,
   "outputs": [],
   "source": [],
   "metadata": {
    "collapsed": false,
    "pycharm": {
     "name": "#%%\n"
    }
   }
  }
 ],
 "metadata": {
  "kernelspec": {
   "display_name": "Python 3",
   "language": "python",
   "name": "python3"
  },
  "language_info": {
   "codemirror_mode": {
    "name": "ipython",
    "version": 2
   },
   "file_extension": ".py",
   "mimetype": "text/x-python",
   "name": "python",
   "nbconvert_exporter": "python",
   "pygments_lexer": "ipython2",
   "version": "2.7.6"
  }
 },
 "nbformat": 4,
 "nbformat_minor": 0
}