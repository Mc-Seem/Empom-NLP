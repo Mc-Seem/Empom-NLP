{
 "cells": [
  {
   "cell_type": "code",
   "execution_count": null,
   "outputs": [],
   "source": [
    "!pip install kneed\n",
    "!pip install pyLDAvis\n",
    "!pip install pymorphy2"
   ],
   "metadata": {
    "collapsed": false,
    "pycharm": {
     "name": "#%%\n",
     "is_executing": true
    }
   }
  },
  {
   "cell_type": "code",
   "execution_count": 1,
   "metadata": {
    "collapsed": true
   },
   "outputs": [],
   "source": [
    "import pandas as pd\n",
    "import numpy as np"
   ]
  },
  {
   "cell_type": "markdown",
   "source": [
    "Data Preprocessing\n",
    "==================\n",
    " - df_transform - reorganizes raw chat data into more interpretable format\n",
    " - TextPreprocessor - cleans and lemmatizes/stems the messages\n",
    " - EM_Pomoshnik_TextPreprocessor - saves and replaces order/shop/incident codes, mentioned in messages"
   ],
   "metadata": {
    "collapsed": false
   }
  },
  {
   "cell_type": "code",
   "execution_count": 2,
   "outputs": [
    {
     "name": "stderr",
     "output_type": "stream",
     "text": [
      "[nltk_data] Downloading package stopwords to\n",
      "[nltk_data]     C:\\Users\\McSeem\\AppData\\Roaming\\nltk_data...\n",
      "[nltk_data]   Package stopwords is already up-to-date!\n"
     ]
    }
   ],
   "source": [
    "from classes.Preprocessing import df_transform, TextPreprocessor, EM_Pomoshnik_TextPreprocessor\n",
    "\n",
    "import nltk\n",
    "nltk.download('stopwords')\n",
    "from nltk.corpus import stopwords"
   ],
   "metadata": {
    "collapsed": false,
    "pycharm": {
     "name": "#%%\n"
    }
   }
  },
  {
   "cell_type": "code",
   "execution_count": 3,
   "outputs": [
    {
     "name": "stderr",
     "output_type": "stream",
     "text": [
      "C:\\Users\\McSeem\\DataspellProjects\\EMPom-NLP\\classes\\Preprocessing.py:28: FutureWarning: The default value of regex will change from True to False in a future version.\n",
      "  df['user'] = df['Пользователь'].str.replace(r'\\n-', '')\n",
      "C:\\Users\\McSeem\\DataspellProjects\\EMPom-NLP\\classes\\Preprocessing.py:29: FutureWarning: The default value of regex will change from True to False in a future version.\n",
      "  df['user'] = df['user'].str.replace(r'\\n.*', '')\n",
      "C:\\Users\\McSeem\\DataspellProjects\\EMPom-NLP\\classes\\Preprocessing.py:30: FutureWarning: The default value of regex will change from True to False in a future version.\n",
      "  df['operators'] = df['Операторы'].str.replace(r'\\n', '')\n",
      "C:\\Users\\McSeem\\DataspellProjects\\EMPom-NLP\\classes\\Preprocessing.py:38: FutureWarning: The default value of regex will change from True to False in a future version.\n",
      "  df['sender'] = df['sender'].str.replace(r' \\(рекомендация\\)', '')\n"
     ]
    },
    {
     "data": {
      "text/plain": "                                chat_id channel_type topics  \\\n0  88353156-f370-4bca-a979-1d41afef6952       ExtApi   УБЕР   \n0  88353156-f370-4bca-a979-1d41afef6952       ExtApi   УБЕР   \n0  88353156-f370-4bca-a979-1d41afef6952       ExtApi   УБЕР   \n1  c3e5e5dc-0244-4edb-8cd8-218d356cd3e7       ExtApi   УБЕР   \n1  c3e5e5dc-0244-4edb-8cd8-218d356cd3e7       ExtApi   УБЕР   \n\n                     documents reaction  bot_confidence  mean_response_time  \\\n0                            -        -             0.5                   0   \n0                            -        -             0.5                   0   \n0                            -        -             0.5                   0   \n1  Как изменить магазин в боте        -             0.9               26375   \n1  Как изменить магазин в боте        -             0.9               26375   \n\n                  user      time sender          sender_name  \\\n0        Андрей Ерохин  03:10:36   user        Андрей Ерохин   \n0        Андрей Ерохин  03:10:37    bot                  Бот   \n0        Андрей Ерохин  05:57:17    bot                  Бот   \n1  Владимир Слепокуров  03:39:20   user  Владимир Слепокуров   \n1  Владимир Слепокуров  03:39:21    bot                  Бот   \n\n                                                line  \n0  Сбросились роли по спасибо црм, ожидаем обратн...  \n0  Мне не удалось быстро найти ответ. Нужно подож...  \n0                               Будут вопросы, пиши.  \n1  Заказ 2014345179, 2014358548, 2014358623, 2014...  \n1  Мне не удалось быстро найти ответ. Нужно подож...  ",
      "text/html": "<div>\n<style scoped>\n    .dataframe tbody tr th:only-of-type {\n        vertical-align: middle;\n    }\n\n    .dataframe tbody tr th {\n        vertical-align: top;\n    }\n\n    .dataframe thead th {\n        text-align: right;\n    }\n</style>\n<table border=\"1\" class=\"dataframe\">\n  <thead>\n    <tr style=\"text-align: right;\">\n      <th></th>\n      <th>chat_id</th>\n      <th>channel_type</th>\n      <th>topics</th>\n      <th>documents</th>\n      <th>reaction</th>\n      <th>bot_confidence</th>\n      <th>mean_response_time</th>\n      <th>user</th>\n      <th>time</th>\n      <th>sender</th>\n      <th>sender_name</th>\n      <th>line</th>\n    </tr>\n  </thead>\n  <tbody>\n    <tr>\n      <th>0</th>\n      <td>88353156-f370-4bca-a979-1d41afef6952</td>\n      <td>ExtApi</td>\n      <td>УБЕР</td>\n      <td>-</td>\n      <td>-</td>\n      <td>0.5</td>\n      <td>0</td>\n      <td>Андрей Ерохин</td>\n      <td>03:10:36</td>\n      <td>user</td>\n      <td>Андрей Ерохин</td>\n      <td>Сбросились роли по спасибо црм, ожидаем обратн...</td>\n    </tr>\n    <tr>\n      <th>0</th>\n      <td>88353156-f370-4bca-a979-1d41afef6952</td>\n      <td>ExtApi</td>\n      <td>УБЕР</td>\n      <td>-</td>\n      <td>-</td>\n      <td>0.5</td>\n      <td>0</td>\n      <td>Андрей Ерохин</td>\n      <td>03:10:37</td>\n      <td>bot</td>\n      <td>Бот</td>\n      <td>Мне не удалось быстро найти ответ. Нужно подож...</td>\n    </tr>\n    <tr>\n      <th>0</th>\n      <td>88353156-f370-4bca-a979-1d41afef6952</td>\n      <td>ExtApi</td>\n      <td>УБЕР</td>\n      <td>-</td>\n      <td>-</td>\n      <td>0.5</td>\n      <td>0</td>\n      <td>Андрей Ерохин</td>\n      <td>05:57:17</td>\n      <td>bot</td>\n      <td>Бот</td>\n      <td>Будут вопросы, пиши.</td>\n    </tr>\n    <tr>\n      <th>1</th>\n      <td>c3e5e5dc-0244-4edb-8cd8-218d356cd3e7</td>\n      <td>ExtApi</td>\n      <td>УБЕР</td>\n      <td>Как изменить магазин в боте</td>\n      <td>-</td>\n      <td>0.9</td>\n      <td>26375</td>\n      <td>Владимир Слепокуров</td>\n      <td>03:39:20</td>\n      <td>user</td>\n      <td>Владимир Слепокуров</td>\n      <td>Заказ 2014345179, 2014358548, 2014358623, 2014...</td>\n    </tr>\n    <tr>\n      <th>1</th>\n      <td>c3e5e5dc-0244-4edb-8cd8-218d356cd3e7</td>\n      <td>ExtApi</td>\n      <td>УБЕР</td>\n      <td>Как изменить магазин в боте</td>\n      <td>-</td>\n      <td>0.9</td>\n      <td>26375</td>\n      <td>Владимир Слепокуров</td>\n      <td>03:39:21</td>\n      <td>bot</td>\n      <td>Бот</td>\n      <td>Мне не удалось быстро найти ответ. Нужно подож...</td>\n    </tr>\n  </tbody>\n</table>\n</div>"
     },
     "execution_count": 3,
     "metadata": {},
     "output_type": "execute_result"
    }
   ],
   "source": [
    "df = df_transform(pd.read_excel('data/empom_autofaq.xlsx'))\n",
    "df.head()"
   ],
   "metadata": {
    "collapsed": false,
    "pycharm": {
     "name": "#%%\n"
    }
   }
  },
  {
   "cell_type": "code",
   "execution_count": 4,
   "outputs": [
    {
     "name": "stderr",
     "output_type": "stream",
     "text": [
      "C:\\Users\\McSeem\\DataspellProjects\\EMPom-NLP\\classes\\Preprocessing.py:123: FutureWarning: The default value of regex will change from True to False in a future version.\n",
      "  self.data = self.data.str.replace(r'\\d\\d\\d\\d\\d\\d\\d\\d\\d\\d', self.replacing_order)\n",
      "C:\\Users\\McSeem\\DataspellProjects\\EMPom-NLP\\classes\\Preprocessing.py:124: FutureWarning: The default value of regex will change from True to False in a future version.\n",
      "  self.data = self.data.str.replace(r'\\d\\d\\d\\d\\d\\d\\d\\d\\d', self.replacing_order)\n",
      "C:\\Users\\McSeem\\DataspellProjects\\EMPom-NLP\\classes\\Preprocessing.py:136: FutureWarning: The default value of regex will change from True to False in a future version.\n",
      "  self.data = self.data.str.replace(r'\\d\\d-\\d\\d\\d\\d\\d\\d\\d\\d', self.replacing_incident)\n",
      "C:\\Users\\McSeem\\DataspellProjects\\EMPom-NLP\\classes\\Preprocessing.py:130: FutureWarning: The default value of regex will change from True to False in a future version.\n",
      "  self.data = self.data.str.replace(r'[a-zA-Z][a-zA-Z]\\d\\d', self.replacing_shop)\n",
      "C:\\Users\\McSeem\\DataspellProjects\\EMPom-NLP\\classes\\Preprocessing.py:305: FutureWarning: The default value of regex will change from True to False in a future version.\n",
      "  self.data = self.data.str.replace(r'http\\S+', ' ')\n",
      "C:\\Users\\McSeem\\DataspellProjects\\EMPom-NLP\\classes\\Preprocessing.py:306: FutureWarning: The default value of regex will change from True to False in a future version.\n",
      "  self.data = self.data.str.replace(r'www\\S+', ' ')\n",
      "C:\\Users\\McSeem\\DataspellProjects\\EMPom-NLP\\classes\\Preprocessing.py:281: FutureWarning: The default value of regex will change from True to False in a future version.\n",
      "  self.data = self.data.str.replace(r'[^\\w\\s]', ' ')\n",
      "C:\\Users\\McSeem\\DataspellProjects\\EMPom-NLP\\classes\\Preprocessing.py:293: FutureWarning: The default value of regex will change from True to False in a future version.\n",
      "  self.data = self.data.str.replace(r'\\d+', self.replacing_word)\n",
      "C:\\Users\\McSeem\\DataspellProjects\\EMPom-NLP\\classes\\Preprocessing.py:275: FutureWarning: The default value of regex will change from True to False in a future version.\n",
      "  self.data = self.data.str.replace(pattern, '')\n",
      "C:\\Users\\McSeem\\DataspellProjects\\EMPom-NLP\\classes\\Preprocessing.py:312: FutureWarning: The default value of regex will change from True to False in a future version.\n",
      "  self.data = self.data.str.replace(r'[A-Za-z\\s]', ' ')\n",
      "C:\\Users\\McSeem\\DataspellProjects\\EMPom-NLP\\classes\\Preprocessing.py:287: FutureWarning: The default value of regex will change from True to False in a future version.\n",
      "  self.data = self.data.str.replace(r'\\s[A-zА-я]{1,2}\\s', ' ')\n",
      "C:\\Users\\McSeem\\DataspellProjects\\EMPom-NLP\\classes\\Preprocessing.py:318: FutureWarning: The default value of regex will change from True to False in a future version.\n",
      "  self.data = self.data.str.replace(r'\\s+', ' ')\n"
     ]
    },
    {
     "data": {
      "text/plain": "0    сброситься роль црм ожидать обратный присвоени...\n0     удаться быстро найти нужно подождать пока уто...\n0                                               писать\n1    отображаться магазин часы работать связь графи...\n1     удаться быстро найти нужно подождать пока уто...\nName: line, dtype: object"
     },
     "execution_count": 4,
     "metadata": {},
     "output_type": "execute_result"
    }
   ],
   "source": [
    "pomoshnik = EM_Pomoshnik_TextPreprocessor('заказ', 'инцидент', 'магазин')\n",
    "pomoshnik.fit(df['line'])\n",
    "\n",
    "df['line'] = pomoshnik.transform()\n",
    "sw = stopwords.words('Russian')\n",
    "sw += ['ответ', 'подходит', 'спасибо', 'здравствуйте', 'добрый', 'день', 'мочь', 'подсказать', 'привет', 'заказ',\n",
    "       'товар', 'клиент', 'могу', 'создать', 'делать', 'сделать', 'который', 'вопрос', 'проблема', 'коллега',\n",
    "       'помочь', 'пожалуйста']\n",
    "\n",
    "text = TextPreprocessor(method = 'lemma', replacing_word=' ', stop_words=sw)\n",
    "text.fit(df['line'])\n",
    "df['line'] = text.transform()\n",
    "df['line'].head()"
   ],
   "metadata": {
    "collapsed": false,
    "pycharm": {
     "name": "#%%\n"
    }
   }
  },
  {
   "cell_type": "code",
   "execution_count": 5,
   "outputs": [
    {
     "data": {
      "text/plain": "(10213,)"
     },
     "execution_count": 5,
     "metadata": {},
     "output_type": "execute_result"
    }
   ],
   "source": [
    "user_messages = df[df['sender'] == 'user']\n",
    "nonempty = user_messages[user_messages['line'] != '']\n",
    "big_enough = nonempty[nonempty['line'].apply(lambda x: len(x.split())) >= 2]\n",
    "big_enough['line'].shape"
   ],
   "metadata": {
    "collapsed": false,
    "pycharm": {
     "name": "#%%\n"
    }
   }
  },
  {
   "cell_type": "markdown",
   "source": [
    "Vectorization\n",
    "============="
   ],
   "metadata": {
    "collapsed": false
   }
  },
  {
   "cell_type": "code",
   "execution_count": 6,
   "outputs": [],
   "source": [
    "from classes.UniVectorizer import Vectorizer\n",
    "\n",
    "vect = Vectorizer('tfidf', ngram_range=(1, 2), min_df=0.01, max_df=0.9)\n",
    "X = vect.fit_transform(big_enough['line'])"
   ],
   "metadata": {
    "collapsed": false,
    "pycharm": {
     "name": "#%%\n"
    }
   }
  },
  {
   "cell_type": "markdown",
   "source": [
    "Clustering\n",
    "=========="
   ],
   "metadata": {
    "collapsed": false
   }
  },
  {
   "cell_type": "code",
   "execution_count": 8,
   "outputs": [
    {
     "data": {
      "text/plain": "  0%|          | 0/48 [00:00<?, ?it/s]",
      "application/vnd.jupyter.widget-view+json": {
       "version_major": 2,
       "version_minor": 0,
       "model_id": "41af575303a54697afcb924a12c83801"
      }
     },
     "metadata": {},
     "output_type": "display_data"
    },
    {
     "data": {
      "text/plain": "<Figure size 360x360 with 0 Axes>"
     },
     "metadata": {},
     "output_type": "display_data"
    },
    {
     "data": {
      "text/plain": "<Figure size 432x432 with 1 Axes>",
      "image/png": "[encoded data removed]"
     },
     "metadata": {
      "needs_background": "light"
     },
     "output_type": "display_data"
    }
   ],
   "source": [
    "from auxiliary.Insight import optimize_n_clusters, cluster_sizes, get_top_features\n",
    "\n",
    "n = optimize_n_clusters(X)"
   ],
   "metadata": {
    "collapsed": false,
    "pycharm": {
     "name": "#%%\n"
    }
   }
  },
  {
   "cell_type": "code",
   "execution_count": 8,
   "outputs": [
    {
     "name": "stdout",
     "output_type": "stream",
     "text": [
      "{2: 5393, 3: 636, 13: 450, 16: 182, 5: 268, 11: 428, 6: 306, 10: 201, 17: 217, 9: 216, 8: 234, 0: 257, 15: 263, 4: 260, 12: 118, 1: 196, 18: 204, 7: 161, 14: 223}\n"
     ]
    }
   ],
   "source": [
    "from sklearn.cluster import KMeans\n",
    "from auxiliary.Insight import optimize_n_clusters, cluster_sizes, get_top_features\n",
    "\n",
    "km = KMeans(n_clusters=n, random_state=1337)\n",
    "km.fit(X)\n",
    "print(cluster_sizes(km.labels_))"
   ],
   "metadata": {
    "collapsed": false,
    "pycharm": {
     "name": "#%%\n"
    }
   }
  },
  {
   "cell_type": "code",
   "execution_count": 14,
   "outputs": [
    {
     "data": {
      "text/plain": "['магазин', 'наш', 'инцидент', 'остаток', 'склад', 'сотрудник']"
     },
     "execution_count": 14,
     "metadata": {},
     "output_type": "execute_result"
    }
   ],
   "source": [
    "get_top_features(X, km.labels_, 3, vect.get_feature_names())"
   ],
   "metadata": {
    "collapsed": false,
    "pycharm": {
     "name": "#%%\n"
    }
   }
  },
  {
   "cell_type": "code",
   "execution_count": 17,
   "outputs": [
    {
     "name": "stderr",
     "output_type": "stream",
     "text": [
      "C:\\Users\\McSeem\\anaconda3\\lib\\site-packages\\ipykernel\\ipkernel.py:287: DeprecationWarning: `should_run_async` will not call `transform_cell` automatically in the future. Please pass the result to `transformed_cell` argument and any exception that happen during thetransform in `preprocessing_exc_tuple` in IPython 7.17 and above.\n",
      "  and should_run_async(code)\n",
      "C:\\Users\\McSeem\\anaconda3\\lib\\site-packages\\sklearn\\manifold\\_t_sne.py:691: FutureWarning: 'square_distances' has been introduced in 0.24 to help phase out legacy squaring behavior. The 'legacy' setting will be removed in 1.1 (renaming of 0.26), and the default setting will be changed to True. In 1.3, 'square_distances' will be removed altogether, and distances will be squared by default. Set 'square_distances'=True to silence this warning.\n",
      "  warnings.warn(\n"
     ]
    }
   ],
   "source": [
    "from auxiliary.Visualization import kmeans_vis\n",
    "\n",
    "kmeans_vis(X, km, vect.get_feature_names(), 'kmeans_vis.html')"
   ],
   "metadata": {
    "collapsed": false,
    "pycharm": {
     "name": "#%%\n"
    }
   }
  },
  {
   "cell_type": "code",
   "execution_count": 19,
   "outputs": [
    {
     "name": "stderr",
     "output_type": "stream",
     "text": [
      "C:\\Users\\McSeem\\anaconda3\\lib\\site-packages\\ipykernel\\ipkernel.py:287: DeprecationWarning: `should_run_async` will not call `transform_cell` automatically in the future. Please pass the result to `transformed_cell` argument and any exception that happen during thetransform in `preprocessing_exc_tuple` in IPython 7.17 and above.\n",
      "  and should_run_async(code)\n"
     ]
    },
    {
     "data": {
      "text/plain": "['резерв',\n 'номер',\n 'чек',\n 'магазин',\n 'ошибка',\n 'тн',\n 'заявка',\n 'промокод',\n 'курьер',\n 'карта',\n 'обмен',\n 'доставка',\n 'ссылка',\n 'возврат',\n 'инструкция',\n 'код',\n 'товарный',\n 'выдача',\n 'нужный']"
     },
     "execution_count": 19,
     "metadata": {},
     "output_type": "execute_result"
    }
   ],
   "source": [
    "cluster_labels = []\n",
    "for i in range(19):\n",
    "    cluster_labels.append(get_top_features(X, km.labels_, i, vect.get_feature_names())[0])\n",
    "cluster_labels"
   ],
   "metadata": {
    "collapsed": false,
    "pycharm": {
     "name": "#%%\n"
    }
   }
  },
  {
   "cell_type": "code",
   "execution_count": 20,
   "outputs": [
    {
     "name": "stderr",
     "output_type": "stream",
     "text": [
      "C:\\Users\\McSeem\\anaconda3\\lib\\site-packages\\ipykernel\\ipkernel.py:287: DeprecationWarning: `should_run_async` will not call `transform_cell` automatically in the future. Please pass the result to `transformed_cell` argument and any exception that happen during thetransform in `preprocessing_exc_tuple` in IPython 7.17 and above.\n",
      "  and should_run_async(code)\n",
      "<ipython-input-20-885c17167e3a>:1: SettingWithCopyWarning: \n",
      "A value is trying to be set on a copy of a slice from a DataFrame.\n",
      "Try using .loc[row_indexer,col_indexer] = value instead\n",
      "\n",
      "See the caveats in the documentation: https://pandas.pydata.org/pandas-docs/stable/user_guide/indexing.html#returning-a-view-versus-a-copy\n",
      "  big_enough['label'] = km.labels_\n",
      "<ipython-input-20-885c17167e3a>:2: SettingWithCopyWarning: \n",
      "A value is trying to be set on a copy of a slice from a DataFrame.\n",
      "Try using .loc[row_indexer,col_indexer] = value instead\n",
      "\n",
      "See the caveats in the documentation: https://pandas.pydata.org/pandas-docs/stable/user_guide/indexing.html#returning-a-view-versus-a-copy\n",
      "  big_enough['label'] = big_enough['label'].apply(lambda x: cluster_labels[x])\n"
     ]
    },
    {
     "data": {
      "text/plain": "0           чек\n1           чек\n1       магазин\n2       магазин\n3       магазин\n         ...   \n7316        чек\n7316        чек\n7316        чек\n7316        чек\n7317     курьер\nName: label, Length: 10213, dtype: object"
     },
     "execution_count": 20,
     "metadata": {},
     "output_type": "execute_result"
    }
   ],
   "source": [
    "big_enough['label'] = km.labels_\n",
    "big_enough['label'] = big_enough['label'].apply(lambda x: cluster_labels[x])\n",
    "big_enough['label']"
   ],
   "metadata": {
    "collapsed": false,
    "pycharm": {
     "name": "#%%\n"
    }
   }
  },
  {
   "cell_type": "markdown",
   "source": [
    "Sentiment Analysis\n",
    "=================="
   ],
   "metadata": {
    "collapsed": false
   }
  },
  {
   "cell_type": "code",
   "execution_count": 23,
   "outputs": [
    {
     "name": "stderr",
     "output_type": "stream",
     "text": [
      "C:\\Users\\McSeem\\anaconda3\\lib\\site-packages\\ipykernel\\ipkernel.py:287: DeprecationWarning: `should_run_async` will not call `transform_cell` automatically in the future. Please pass the result to `transformed_cell` argument and any exception that happen during thetransform in `preprocessing_exc_tuple` in IPython 7.17 and above.\n",
      "  and should_run_async(code)\n"
     ]
    },
    {
     "name": "stdout",
     "output_type": "stream",
     "text": [
      "Collecting transformers\n",
      "  Downloading transformers-4.19.2-py3-none-any.whl (4.2 MB)\n",
      "Collecting tokenizers!=0.11.3,<0.13,>=0.11.1\n",
      "  Downloading tokenizers-0.12.1-cp38-cp38-win_amd64.whl (3.3 MB)\n",
      "Requirement already satisfied: pyyaml>=5.1 in c:\\users\\mcseem\\anaconda3\\lib\\site-packages (from transformers) (5.4.1)\n",
      "Requirement already satisfied: packaging>=20.0 in c:\\users\\mcseem\\anaconda3\\lib\\site-packages (from transformers) (20.9)\n",
      "Requirement already satisfied: requests in c:\\users\\mcseem\\anaconda3\\lib\\site-packages (from transformers) (2.25.1)\n",
      "Collecting huggingface-hub<1.0,>=0.1.0\n",
      "  Downloading huggingface_hub-0.7.0-py3-none-any.whl (86 kB)\n",
      "Requirement already satisfied: tqdm>=4.27 in c:\\users\\mcseem\\anaconda3\\lib\\site-packages (from transformers) (4.59.0)\n",
      "Requirement already satisfied: numpy>=1.17 in c:\\users\\mcseem\\anaconda3\\lib\\site-packages (from transformers) (1.22.3)\n",
      "Requirement already satisfied: filelock in c:\\users\\mcseem\\anaconda3\\lib\\site-packages (from transformers) (3.0.12)\n",
      "Requirement already satisfied: regex!=2019.12.17 in c:\\users\\mcseem\\anaconda3\\lib\\site-packages (from transformers) (2021.4.4)\n",
      "Requirement already satisfied: typing-extensions>=3.7.4.3 in c:\\users\\mcseem\\anaconda3\\lib\\site-packages (from huggingface-hub<1.0,>=0.1.0->transformers) (3.7.4.3)\n",
      "Requirement already satisfied: pyparsing>=2.0.2 in c:\\users\\mcseem\\anaconda3\\lib\\site-packages (from packaging>=20.0->transformers) (2.4.7)\n",
      "Requirement already satisfied: chardet<5,>=3.0.2 in c:\\users\\mcseem\\anaconda3\\lib\\site-packages (from requests->transformers) (4.0.0)\n",
      "Requirement already satisfied: certifi>=2017.4.17 in c:\\users\\mcseem\\anaconda3\\lib\\site-packages (from requests->transformers) (2020.12.5)\n",
      "Requirement already satisfied: idna<3,>=2.5 in c:\\users\\mcseem\\anaconda3\\lib\\site-packages (from requests->transformers) (2.10)\n",
      "Requirement already satisfied: urllib3<1.27,>=1.21.1 in c:\\users\\mcseem\\anaconda3\\lib\\site-packages (from requests->transformers) (1.26.4)\n",
      "Installing collected packages: tokenizers, huggingface-hub, transformers\n",
      "Successfully installed huggingface-hub-0.7.0 tokenizers-0.12.1 transformers-4.19.2\n",
      "Collecting torch\n",
      "  Downloading torch-1.11.0-cp38-cp38-win_amd64.whl (158.0 MB)\n",
      "Requirement already satisfied: typing-extensions in c:\\users\\mcseem\\anaconda3\\lib\\site-packages (from torch) (3.7.4.3)\n",
      "Installing collected packages: torch\n",
      "Successfully installed torch-1.11.0\n"
     ]
    }
   ],
   "source": [
    "!pip install transformers\n",
    "!pip install torch"
   ],
   "metadata": {
    "collapsed": false,
    "pycharm": {
     "name": "#%%\n"
    }
   }
  },
  {
   "cell_type": "code",
   "execution_count": null,
   "outputs": [],
   "source": [
    "from auxiliary.Sentiment import get_sentiments"
   ],
   "metadata": {
    "collapsed": false,
    "pycharm": {
     "name": "#%%\n"
    }
   }
  },
  {
   "cell_type": "code",
   "execution_count": 28,
   "outputs": [
    {
     "name": "stderr",
     "output_type": "stream",
     "text": [
      "C:\\Users\\McSeem\\anaconda3\\lib\\site-packages\\ipykernel\\ipkernel.py:287: DeprecationWarning: `should_run_async` will not call `transform_cell` automatically in the future. Please pass the result to `transformed_cell` argument and any exception that happen during thetransform in `preprocessing_exc_tuple` in IPython 7.17 and above.\n",
      "  and should_run_async(code)\n"
     ]
    },
    {
     "data": {
      "text/plain": "  0%|          | 0/1022 [00:00<?, ?it/s]",
      "application/vnd.jupyter.widget-view+json": {
       "version_major": 2,
       "version_minor": 0,
       "model_id": "a9b1a4ea8bb44078b3ddf10ae50593f8"
      }
     },
     "metadata": {},
     "output_type": "display_data"
    }
   ],
   "source": [
    "lines = big_enough['line'].to_list()\n",
    "results = get_sentiments(lines)"
   ],
   "metadata": {
    "collapsed": false,
    "pycharm": {
     "name": "#%%\n"
    }
   }
  },
  {
   "cell_type": "code",
   "execution_count": 32,
   "outputs": [
    {
     "name": "stderr",
     "output_type": "stream",
     "text": [
      "C:\\Users\\McSeem\\anaconda3\\lib\\site-packages\\ipykernel\\ipkernel.py:287: DeprecationWarning: `should_run_async` will not call `transform_cell` automatically in the future. Please pass the result to `transformed_cell` argument and any exception that happen during thetransform in `preprocessing_exc_tuple` in IPython 7.17 and above.\n",
      "  and should_run_async(code)\n",
      "<ipython-input-32-d1ce3169226b>:1: SettingWithCopyWarning: \n",
      "A value is trying to be set on a copy of a slice from a DataFrame.\n",
      "Try using .loc[row_indexer,col_indexer] = value instead\n",
      "\n",
      "See the caveats in the documentation: https://pandas.pydata.org/pandas-docs/stable/user_guide/indexing.html#returning-a-view-versus-a-copy\n",
      "  big_enough['sentiment'] = results\n"
     ]
    }
   ],
   "source": [
    "big_enough['sentiment'] = results"
   ],
   "metadata": {
    "collapsed": false,
    "pycharm": {
     "name": "#%%\n"
    }
   }
  },
  {
   "cell_type": "code",
   "execution_count": 34,
   "outputs": [
    {
     "name": "stderr",
     "output_type": "stream",
     "text": [
      "C:\\Users\\McSeem\\anaconda3\\lib\\site-packages\\ipykernel\\ipkernel.py:287: DeprecationWarning: `should_run_async` will not call `transform_cell` automatically in the future. Please pass the result to `transformed_cell` argument and any exception that happen during thetransform in `preprocessing_exc_tuple` in IPython 7.17 and above.\n",
      "  and should_run_async(code)\n"
     ]
    }
   ],
   "source": [
    "big_enough.to_excel('labelled_messages.xlsx')"
   ],
   "metadata": {
    "collapsed": false,
    "pycharm": {
     "name": "#%%\n"
    }
   }
  }
 ],
 "metadata": {
  "kernelspec": {
   "display_name": "Python 3",
   "language": "python",
   "name": "python3"
  },
  "language_info": {
   "codemirror_mode": {
    "name": "ipython",
    "version": 2
   },
   "file_extension": ".py",
   "mimetype": "text/x-python",
   "name": "python",
   "nbconvert_exporter": "python",
   "pygments_lexer": "ipython2",
   "version": "2.7.6"
  }
 },
 "nbformat": 4,
 "nbformat_minor": 0
}